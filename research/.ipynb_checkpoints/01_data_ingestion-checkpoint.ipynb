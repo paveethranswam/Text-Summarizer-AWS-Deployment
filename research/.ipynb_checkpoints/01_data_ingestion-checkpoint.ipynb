{
 "cells": [
  {
   "cell_type": "code",
   "execution_count": 1,
   "id": "f4d90a09",
   "metadata": {},
   "outputs": [],
   "source": [
    "import os, sys\n",
    "from pathlib import Path\n",
    "import urllib\n",
    "from textSummarizer.logging import logger\n",
    "from zipfile import ZipFile"
   ]
  },
  {
   "cell_type": "code",
   "execution_count": 2,
   "id": "607aa2e5",
   "metadata": {},
   "outputs": [
    {
     "data": {
      "text/plain": [
       "'C:\\\\Users\\\\papu_\\\\OneDrive\\\\Desktop\\\\University Courses\\\\3rd Semester\\\\AWS ML Speciality\\\\Text-Summarizer-AWS-Deployment\\\\research'"
      ]
     },
     "execution_count": 2,
     "metadata": {},
     "output_type": "execute_result"
    }
   ],
   "source": [
    "pwd"
   ]
  },
  {
   "cell_type": "code",
   "execution_count": 3,
   "id": "8ca35dbc",
   "metadata": {},
   "outputs": [],
   "source": [
    "os.chdir(\"../\")"
   ]
  },
  {
   "cell_type": "code",
   "execution_count": 4,
   "id": "b2f2612b",
   "metadata": {},
   "outputs": [
    {
     "data": {
      "text/plain": [
       "'C:\\\\Users\\\\papu_\\\\OneDrive\\\\Desktop\\\\University Courses\\\\3rd Semester\\\\AWS ML Speciality\\\\Text-Summarizer-AWS-Deployment'"
      ]
     },
     "execution_count": 4,
     "metadata": {},
     "output_type": "execute_result"
    }
   ],
   "source": [
    "pwd"
   ]
  },
  {
   "cell_type": "code",
   "execution_count": 5,
   "id": "c890a8b0",
   "metadata": {},
   "outputs": [],
   "source": [
    "# Entity.yaml\n",
    "from dataclasses import dataclass\n",
    "import numpy as np\n",
    "\n",
    "@dataclass(frozen=True)\n",
    "class DataIngestionConfig:\n",
    "    root_dir: Path\n",
    "    source_dir: str\n",
    "    local_data_file: Path\n",
    "    unzip_dir: Path\n"
   ]
  },
  {
   "cell_type": "code",
   "execution_count": 6,
   "id": "b6ecf8c9",
   "metadata": {},
   "outputs": [
    {
     "data": {
      "text/plain": [
       "'d'"
      ]
     },
     "execution_count": 6,
     "metadata": {},
     "output_type": "execute_result"
    }
   ],
   "source": [
    "ad = DataIngestionConfig('a', 'b', 'c', 'd')\n",
    "ad.unzip_dir"
   ]
  },
  {
   "cell_type": "code",
   "execution_count": null,
   "id": "3eb89e51",
   "metadata": {},
   "outputs": [],
   "source": []
  },
  {
   "cell_type": "code",
   "execution_count": 7,
   "id": "652f6f2d",
   "metadata": {},
   "outputs": [],
   "source": [
    "# Configuration manager\n",
    "from textSummarizer.constants import *\n",
    "from textSummarizer.utils.common import read_yaml, create_directories, get_size\n",
    "\n",
    "@dataclass\n",
    "class ConfigurationManager:\n",
    "    config_file_path: Path = CONFIG_FILE_PATH\n",
    "    params_file_path: Path = PARAMS_FILE_PATH\n",
    "    \n",
    "    # Calling this to not override default init and post init is called as the last function of default init\n",
    "    def __post_init__(self):\n",
    "        self.config = read_yaml(self.config_file_path) # CONFIG_FILE_PATH taken from constants\n",
    "        self.params = read_yaml(self.params_file_path) # PARAMS_FILE_PATH taken from constants\n",
    "        \n",
    "        create_directories([self.config.artifacts_path, self.config.data_ingestion.root_dir])\n",
    "        \n",
    "    def getDataIngestionConfig(self) -> DataIngestionConfig:\n",
    "        \n",
    "        data_ingestion_config = self.config.data_ingestion\n",
    "        \n",
    "        dic = DataIngestionConfig(root_dir = data_ingestion_config.root_dir, \n",
    "                                 source_dir = data_ingestion_config.source_dir, \n",
    "                                 local_data_file = data_ingestion_config.local_data_file, \n",
    "                                 unzip_dir = data_ingestion_config.unzip_dir)\n",
    "        \n",
    "        return dic\n",
    "    \n"
   ]
  },
  {
   "cell_type": "code",
   "execution_count": null,
   "id": "95c649df",
   "metadata": {},
   "outputs": [],
   "source": []
  },
  {
   "cell_type": "code",
   "execution_count": 12,
   "id": "72f153e0",
   "metadata": {},
   "outputs": [],
   "source": [
    "# Components creation\n",
    "\n",
    "class DataIngestion:\n",
    "    def __init__(self, dic : DataIngestionConfig):\n",
    "        self.dic = dic\n",
    "        \n",
    "    # Download the data from url and save to the local file name and extract the zip contents, save them all in artifacts folder\n",
    "    def download_data(self):\n",
    "        if(not os.path.exists(self.dic.local_data_file)):\n",
    "            filename, header = urllib.request.urlretrieve(url = self.dic.source_dir, filename = self.dic.local_data_file)\n",
    "            logger.info('Data file {} downloaded, with return header {}'.format(filename, header))\n",
    "        else:\n",
    "            size = get_size(Path(self.dic.local_data_file))\n",
    "            logger.info('Data file {} already exists, with {}'.format(self.dic.local_data_file, size))\n",
    "    # Extract\n",
    "    def extract_zip(self):\n",
    "        with ZipFile(self.dic.local_data_file, 'r') as zObject:\n",
    "            zObject.extractall(path=self.dic.unzip_dir)\n",
    "        logger.info('Zip file extracted at {}'.format(self.dic.unzip_dir))\n",
    "        \n",
    "        "
   ]
  },
  {
   "cell_type": "code",
   "execution_count": null,
   "id": "c2b0c022",
   "metadata": {},
   "outputs": [],
   "source": []
  },
  {
   "cell_type": "code",
   "execution_count": 13,
   "id": "c503c55b",
   "metadata": {},
   "outputs": [
    {
     "name": "stdout",
     "output_type": "stream",
     "text": [
      "[2023-08-16 15:57:33,438] @ [INFO] : common : Path to YAML config\\config.yaml loaded correctly\n",
      "[2023-08-16 15:57:33,440] @ [INFO] : common : Path to YAML params.yaml loaded correctly\n",
      "[2023-08-16 15:57:33,441] @ [INFO] : common : Directory artifacts created correctly\n",
      "[2023-08-16 15:57:33,443] @ [INFO] : common : Directory artifacts/data_ingestion created correctly\n",
      "[2023-08-16 15:57:33,444] @ [INFO] : <ipython-input-12-532bbc926797> : Data file artifacts/data_ingestion/summarizer-data.zip already exists, with File size: 7718.353515625 kB\n",
      "[2023-08-16 15:57:33,604] @ [INFO] : <ipython-input-12-532bbc926797> : Zip file extracted at artifacts/data_ingestion\n"
     ]
    }
   ],
   "source": [
    "# Update the pipeline\n",
    "try:\n",
    "    config = ConfigurationManager()\n",
    "    dic = config.getDataIngestionConfig()\n",
    "    di = DataIngestion(dic)\n",
    "\n",
    "    di.download_data()\n",
    "    di.extract_zip()\n",
    "except Exception as e:\n",
    "    raise e\n",
    "    "
   ]
  },
  {
   "cell_type": "code",
   "execution_count": null,
   "id": "21ac26f5",
   "metadata": {},
   "outputs": [],
   "source": []
  },
  {
   "cell_type": "code",
   "execution_count": null,
   "id": "1661e11e",
   "metadata": {},
   "outputs": [],
   "source": []
  },
  {
   "cell_type": "code",
   "execution_count": 14,
   "id": "802b6ad0",
   "metadata": {},
   "outputs": [],
   "source": [
    "import urllib"
   ]
  },
  {
   "cell_type": "code",
   "execution_count": null,
   "id": "fd0d00e9",
   "metadata": {},
   "outputs": [],
   "source": [
    "urllib.request.urlretrieve()"
   ]
  },
  {
   "cell_type": "code",
   "execution_count": null,
   "id": "2a5485ad",
   "metadata": {},
   "outputs": [],
   "source": []
  },
  {
   "cell_type": "code",
   "execution_count": null,
   "id": "123b36de",
   "metadata": {},
   "outputs": [],
   "source": []
  },
  {
   "cell_type": "code",
   "execution_count": null,
   "id": "304ee54e",
   "metadata": {},
   "outputs": [],
   "source": []
  },
  {
   "cell_type": "code",
   "execution_count": null,
   "id": "95db9f46",
   "metadata": {},
   "outputs": [],
   "source": []
  },
  {
   "cell_type": "code",
   "execution_count": null,
   "id": "7088946b",
   "metadata": {},
   "outputs": [],
   "source": []
  },
  {
   "cell_type": "code",
   "execution_count": null,
   "id": "2915f074",
   "metadata": {},
   "outputs": [],
   "source": []
  },
  {
   "cell_type": "code",
   "execution_count": null,
   "id": "2969b63d",
   "metadata": {},
   "outputs": [],
   "source": []
  },
  {
   "cell_type": "code",
   "execution_count": null,
   "id": "7b5572d8",
   "metadata": {},
   "outputs": [],
   "source": []
  }
 ],
 "metadata": {
  "kernelspec": {
   "display_name": "Python 3",
   "language": "python",
   "name": "python3"
  },
  "language_info": {
   "codemirror_mode": {
    "name": "ipython",
    "version": 3
   },
   "file_extension": ".py",
   "mimetype": "text/x-python",
   "name": "python",
   "nbconvert_exporter": "python",
   "pygments_lexer": "ipython3",
   "version": "3.7.9"
  }
 },
 "nbformat": 4,
 "nbformat_minor": 5
}
